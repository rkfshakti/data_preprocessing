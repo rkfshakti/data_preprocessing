{
 "cells": [
  {
   "cell_type": "markdown",
   "id": "741f9dbb",
   "metadata": {},
   "source": [
    "# Modeling demo\n",
    "\n",
    "Train a simple classifier (TF-IDF + LogisticRegression) on the synthetic dataset and inspect cross-validation results and feature importance."
   ]
  },
  {
   "cell_type": "code",
   "execution_count": null,
   "id": "e20c3e3f",
   "metadata": {},
   "outputs": [],
   "source": [
    "from pathlib import Path\n",
    "import pandas as pd\n",
    "from sklearn.pipeline import make_pipeline\n",
    "from sklearn.feature_extraction.text import TfidfVectorizer\n",
    "from sklearn.linear_model import LogisticRegression\n",
    "from sklearn.model_selection import cross_val_score, train_test_split\n",
    "from sklearn.metrics import classification_report, confusion_matrix\n",
    "from src.analysis import preprocess_df, predictive_terms_logistic\n",
    "DATA = Path('data') / 'synthetic_texts.csv'\n",
    "if not DATA.exists():\n",
    "    from generate_data import generate\n",
    "    generate(600)\n",
    "df = pd.read_csv(DATA)\n",
    "df = preprocess_df(df)\n",
    "X = df['joined_tokens']\n",
    "y = df['label']\n",
    "print('Shape:', X.shape)"
   ]
  },
  {
   "cell_type": "code",
   "execution_count": null,
   "id": "7b110e4f",
   "metadata": {},
   "outputs": [],
   "source": [
    "# Cross-validation accuracy\n",
    "pipe = make_pipeline(TfidfVectorizer(max_features=2000, stop_words='english'), LogisticRegression(max_iter=500))\n",
    "scores = cross_val_score(pipe, X, y, cv=5, scoring='accuracy')\n",
    "print('CV accuracies:', scores)\n",
    "print('Mean accuracy:', scores.mean())"
   ]
  },
  {
   "cell_type": "code",
   "execution_count": null,
   "id": "0eb9bf0d",
   "metadata": {},
   "outputs": [],
   "source": [
    "# Train / test split and classification report\n",
    "Xtr, Xte, ytr, yte = train_test_split(X, y, test_size=0.2, random_state=42, stratify=y)\n",
    "pipe.fit(Xtr, ytr)\n",
    "pred = pipe.predict(Xte)\n",
    "print(classification_report(yte, pred))\n",
    "print('Confusion matrix:', confusion_matrix(yte, pred))"
   ]
  },
  {
   "cell_type": "code",
   "execution_count": null,
   "id": "5685f0ed",
   "metadata": {},
   "outputs": [],
   "source": [
    "# Inspect top predictive terms for the negative class using the helper (this returns top_k features)\n",
    "preds = predictive_terms_logistic(X, y, top_k=40)\n",
    "import pandas as pd\n",
    "pd.DataFrame(preds, columns=['term','coef']).head(12)"
   ]
  }
 ],
 "metadata": {
  "language_info": {
   "name": "python"
  }
 },
 "nbformat": 4,
 "nbformat_minor": 5
}
