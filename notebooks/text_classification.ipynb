{
 "cells": [
  {
   "cell_type": "markdown",
   "metadata": {},
   "source": [
    "# Text Classification Demo\n",
    "\n",
    "This notebook demonstrates text classification techniques using various machine learning models and evaluation metrics."
   ]
  },
  {
   "cell_type": "markdown",
   "metadata": {},
   "source": [
    "## Setup and Data Loading"
   ]
  },
  {
   "cell_type": "code",
   "execution_count": null,
   "metadata": {},
   "outputs": [],
   "source": [
    "from pathlib import Path\n",
    "import pandas as pd\n",
    "import numpy as np\n",
    "import matplotlib.pyplot as plt\n",
    "import seaborn as sns\n",
    "from sklearn.model_selection import train_test_split, cross_val_score\n",
    "from sklearn.metrics import classification_report, confusion_matrix, accuracy_score\n",
    "from sklearn.feature_extraction.text import TfidfVectorizer\n",
    "from sklearn.naive_bayes import MultinomialNB\n",
    "from sklearn.linear_model import LogisticRegression\n",
    "from sklearn.svm import SVC\n",
    "from sklearn.ensemble import RandomForestClassifier\n",
    "from sklearn.pipeline import Pipeline\n",
    "\n",
    "from src.analysis import load_data, preprocess_df\n",
    "\n",
    "# Generate data if needed\n",
    "DATA = Path('data') / 'synthetic_texts.csv'\n",
    "if not DATA.exists():\n",
    "    from generate_data import generate\n",
    "    generate(800)\n",
    "\n",
    "# Load and preprocess data\n",
    "df = load_data(DATA)\n",
    "df = preprocess_df(df)\n",
    "print(f\"Dataset shape: {df.shape}\")\n",
    "print(\"Label distribution:\")\n",
    "print(df['label'].value_counts())"
   ]
  },
  {
   "cell_type": "markdown",
   "metadata": {},
   "source": [
    "## Train-Test Split"
   ]
  },
  {
   "cell_type": "code",
   "execution_count": null,
   "metadata": {},
   "outputs": [],
   "source": [
    "# Split data into train and test sets\n",
    "X = df['joined_tokens']\n",
    "y = df['label']\n",
    "\n",
    "X_train, X_test, y_train, y_test = train_test_split(\n",
    "    X, y, test_size=0.2, random_state=42, stratify=y\n",
    ")\n",
    "\n",
    "print(f\"Training set size: {len(X_train)}\")\n",
    "print(f\"Test set size: {len(X_test)}\")\n",
    "print(\"Training label distribution:\")\n",
    "print(y_train.value_counts())\n",
    "print(\"Test label distribution:\")\n",
    "print(y_test.value_counts())"
   ]
  },
  {
   "cell_type": "markdown",
   "metadata": {},
   "source": [
    "## Model Training and Evaluation"
   ]
  },
  {
   "cell_type": "code",
   "execution_count": null,
   "metadata": {},
   "outputs": [],
   "source": [
    "# Define models to evaluate\n",
    "models = {\n",
    "    'Naive Bayes': MultinomialNB(),\n",
    "    'Logistic Regression': LogisticRegression(random_state=42, max_iter=1000),\n",
    "    'SVM': SVC(random_state=42),\n",
    "    'Random Forest': RandomForestClassifier(random_state=42, n_estimators=100)\n",
    "}\n",
    "\n",
    "# Train and evaluate each model\n",
    "results = {}\n",
    "for name, model in models.items():\n",
    "    print(f\"\\n=== {name} ===\")\n",
    "    \n",
    "    # Create pipeline with TF-IDF and model\n",
    "    pipeline = Pipeline([\n",
    "        ('tfidf', TfidfVectorizer(max_features=2000)),\n",
    "        ('classifier', model)\n",
    "    ])\n",
    "    \n",
    "    # Train model\n",
    "    pipeline.fit(X_train, y_train)\n",
    "    \n",
    "    # Make predictions\n",
    "    y_pred = pipeline.predict(X_test)\n",
    "    \n",
    "    # Calculate accuracy\n",
    "    accuracy = accuracy_score(y_test, y_pred)\n",
    "    print(f\"Accuracy: {accuracy:.3f}\")\n",
    "    \n",
    "    # Cross-validation\n",
    "    cv_scores = cross_val_score(pipeline, X, y, cv=5)\n",
    "    print(f\"Cross-validation scores: {cv_scores}\")\n",
    "    print(f\"Mean CV accuracy: {cv_scores.mean():.3f} (+/- {cv_scores.std() * 2:.3f})\")\n",
    "    \n",
    "    # Store results\n",
    "    results[name] = {\n",
    "        'accuracy': accuracy,\n",
    "        'cv_scores': cv_scores,\n",
    "        'pipeline': pipeline,\n",
    "        'predictions': y_pred\n",
    "    }"
   ]
  },
  {
   "cell_type": "markdown",
   "metadata": {},
   "source": [
    "## Model Comparison"
   ]
  },
  {
   "cell_type": "code",
   "execution_count": null,
   "metadata": {},
   "outputs": [],
   "source": [
    "# Compare model performance\n",
    "accuracies = [results[name]['accuracy'] for name in models]\n",
    "cv_means = [results[name]['cv_scores'].mean() for name in models]\n",
    "cv_stds = [results[name]['cv_scores'].std() for name in models]\n",
    "\n",
    "plt.figure(figsize=(12, 6))\n",
    "\n",
    "plt.subplot(1, 2, 1)\n",
    "plt.bar(models.keys(), accuracies)\n",
    "plt.title('Test Accuracy by Model')\n",
    "plt.ylabel('Accuracy')\n",
    "plt.xticks(rotation=45)\n",
    "plt.ylim(0, 1)\n",
    "\n",
    "plt.subplot(1, 2, 2)\n",
    "plt.bar(models.keys(), cv_means, yerr=cv_stds, capsize=5)\n",
    "plt.title('Cross-Validation Accuracy by Model')\n",
    "plt.ylabel('Mean Accuracy')\n",
    "plt.xticks(rotation=45)\n",
    "plt.ylim(0, 1)\n",
    "\n",
    "plt.tight_layout()\n",
    "plt.show()\n",
    "\n",
    "print(\"\\nModel Performance Summary:\")\n",
    "for name in models:\n",
    "    print(f\"{name}: Test Accuracy={results[name]['accuracy']:.3f}, \"\n",
    "          f\"CV Mean={results[name]['cv_scores'].mean():.3f}\")"
   ]
  },
  {
   "cell_type": "markdown",
   "metadata": {},
   "source": [
    "## Detailed Classification Report"
   ]
  },
  {
   "cell_type": "code",
   "execution_count": null,
   "metadata": {},
   "outputs": [],
   "source": [
    "# Show detailed classification report for best model\n",
    "best_model_name = max(results.keys(), key=lambda x: results[x]['accuracy'])\n",
    "best_model = results[best_model_name]['pipeline']\n",
    "y_pred_best = results[best_model_name]['predictions']\n",
    "\n",
    "print(f\"\\n=== Detailed Report for {best_model_name} ===\")\n",
    "print(classification_report(y_test, y_pred_best))\n",
    "\n",
    "# Confusion matrix\n",
    "cm = confusion_matrix(y_test, y_pred_best)\n",
    "plt.figure(figsize=(8, 6))\n",
    "sns.heatmap(cm, annot=True, fmt='d', cmap='Blues', \n",
    "            xticklabels=sorted(y_test.unique()), \n",
    "            yticklabels=sorted(y_test.unique()))\n",
    "plt.title(f'Confusion Matrix - {best_model_name}')\n",
    "plt.ylabel('True Label')\n",
    "plt.xlabel('Predicted Label')\n",
    "plt.show()"
   ]
  },
  {
   "cell_type": "markdown",
   "metadata": {},
   "source": [
    "## Feature Importance Analysis"
   ]
  },
  {
   "cell_type": "code",
   "execution_count": null,
   "metadata": {},
   "outputs": [],
   "source": [
    "# Analyze feature importance for interpretable models\n",
    "if hasattr(best_model.named_steps['classifier'], 'coef_'):\n",
    "    # For linear models\n",
    "    feature_names = best_model.named_steps['tfidf'].get_feature_names_out()\n",
    "    coefs = best_model.named_steps['classifier'].coef_\n",
    "    \n",
    "    print(\"\\nTop Features by Class:\")\n",
    "    for i, class_name in enumerate(sorted(y_test.unique())):\n",
    "        top_features_idx = np.argsort(coefs[i])[-10:][::-1]\n",
    "        top_features = [feature_names[idx] for idx in top_features_idx]\n",
    "        top_weights = [coefs[i][idx] for idx in top_features_idx]\n",
    "        \n",
    "        print(f\"\\n{class_name}:\")\n",
    "        for feature, weight in zip(top_features, top_weights):\n",
    "            print(f\"  {feature}: {weight:.3f}\")\n",
    "            \n",
    "elif hasattr(best_model.named_steps['classifier'], 'feature_importances_'):\n",
    "    # For tree-based models\n",
    "    feature_names = best_model.named_steps['tfidf'].get_feature_names_out()\n",
    "    importances = best_model.named_steps['classifier'].feature_importances_\n",
    "    \n",
    "    top_features_idx = np.argsort(importances)[-20:][::-1]\n",
    "    top_features = [feature_names[idx] for idx in top_features_idx]\n",
    "    top_importances = [importances[idx] for idx in top_features_idx]\n",
    "    \n",
    "    print(\"\\nTop Features Overall:\")\n",
    "    for feature, importance in zip(top_features, top_importances):\n",
    "        print(f\"  {feature}: {importance:.3f}\")"
   ]
  },
  {
   "cell_type": "markdown",
   "metadata": {},
   "source": [
    "## Hyperparameter Tuning"
   ]
  },
  {
   "cell_type": "code",
   "execution_count": null,
   "metadata": {},
   "outputs": [],
   "source": [
    "# Hyperparameter tuning for best model\n",
    "from sklearn.model_selection import GridSearchCV\n",
    "\n",
    "if best_model_name == 'Logistic Regression':\n",
    "    param_grid = {\n",
    "        'tfidf__max_features': [1000, 2000, 3000],\n",
    "        'classifier__C': [0.1, 1, 10],\n",
    "        'classifier__solver': ['liblinear', 'saga']\n",
    "    }\n",
    "elif best_model_name == 'SVM':\n",
    "    param_grid = {\n",
    "        'tfidf__max_features': [1000, 2000, 3000],\n",
    "        'classifier__C': [0.1, 1, 10],\n",
    "        'classifier__kernel': ['linear', 'rbf']\n",
    "    }\n",
    "elif best_model_name == 'Random Forest':\n",
    "    param_grid = {\n",
    "        'tfidf__max_features': [1000, 2000, 3000],\n",
    "        'classifier__n_estimators': [50, 100, 200],\n",
    "        'classifier__max_depth': [None, 10, 20]\n",
    "    }\n",
    "else:\n",
    "    param_grid = {\n",
    "        'tfidf__max_features': [1000, 2000, 3000]\n",
    "    }\n",
    "\n",
    "print(f\"\\n=== Hyperparameter Tuning for {best_model_name} ===\")\n",
    "grid_search = GridSearchCV(best_model, param_grid, cv=3, n_jobs=-1, verbose=1)\n",
    "grid_search.fit(X_train, y_train)\n",
    "\n",
    "print(f\"Best parameters: {grid_search.best_params_}\")\n",
    "print(f\"Best cross-validation score: {grid_search.best_score_:.3f}\")\n",
    "\n",
    "# Evaluate tuned model\n",
    "tuned_model = grid_search.best_estimator_\n",
    "y_pred_tuned = tuned_model.predict(X_test)\n",
    "tuned_accuracy = accuracy_score(y_test, y_pred_tuned)\n",
    "print(f\"Tuned model accuracy: {tuned_accuracy:.3f}\")\n",
    "print(f\"Improvement: {tuned_accuracy - results[best_model_name]['accuracy']:.3f}\")"
   ]
  },
  {
   "cell_type": "markdown",
   "metadata": {},
   "source": [
    "## Model Deployment and Prediction Examples"
   ]
  },
  {
   "cell_type": "code",
   "execution_count": null,
   "metadata": {},
   "outputs": [],
   "source": [
    "# Test the model on new examples\n",
    "print(\"\\n=== Prediction Examples ===\")\n",
    "\n",
    "# Sample texts from each class\n",
    "sample_texts = []\n",
    "for label in sorted(y_test.unique()):\n",
    "    samples = df[df['label'] == label]['text'].sample(2)\n",
    "    sample_texts.extend(samples.tolist())\n",
    "\n",
    "# Make predictions\n",
    "predictions = tuned_model.predict(sample_texts)\n",
    "probabilities = tuned_model.predict_proba(sample_texts)\n",
    "\n",
    "for i, (text, pred, prob) in enumerate(zip(sample_texts, predictions, probabilities)):\n",
    "    print(f\"\\nExample {i+1}:\")\n",
    "    print(f\"Text: {text[:100]}...\")\n",
    "    print(f\"Predicted: {pred}\")\n",
    "    print(\"Probabilities:\")\n",
    "    for class_name, p in zip(sorted(y_test.unique()), prob):\n",
    "        print(f\"  {class_name}: {p:.3f}\")"
   ]
  },
  {
   "cell_type": "markdown",
   "metadata": {},
   "source": [
    "## Text Classification Summary\n",
    "\n",
    "This notebook demonstrates:\n",
    "1. Text classification with multiple ML models\n",
    "2. Model evaluation and comparison\n",
    "3. Hyperparameter tuning\n",
    "4. Feature importance analysis\n",
    "5. Prediction examples\n",
    "\n",
    "Key insights:\n",
    "- Different models perform differently on text classification tasks\n",
    "- TF-IDF features work well with various classifiers\n",
    "- Hyperparameter tuning can significantly improve performance\n",
    "- Feature analysis provides interpretability\n",
    "- The best model depends on the specific dataset and requirements"
   ]
  }
 ],
 "metadata": {
  "kernelspec": {
   "display_name": "Python 3",
   "language": "python",
   "name": "python3"
  },
  "language_info": {
   "name": "python",
   "version": "3.13.0"
  }
 },
 "nbformat": 4,
 "nbformat_minor": 4
}