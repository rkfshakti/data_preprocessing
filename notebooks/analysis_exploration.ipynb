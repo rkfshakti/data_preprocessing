{
 "cells": [
  {
   "cell_type": "markdown",
   "id": "67647583",
   "metadata": {},
   "source": [
    "# Domain Analysis & Exploration\n",
    "\n",
    "This notebook explores domain-specific EDA: label distribution, top n-grams, keyword trends, TF-IDF overview, and a 2D projection of document embeddings (LSA + t-SNE)."
   ]
  },
  {
   "cell_type": "code",
   "execution_count": null,
   "id": "0ce0b1f0",
   "metadata": {},
   "outputs": [],
   "source": [
    "from pathlib import Path\n",
    "import pandas as pd\n",
    "from src.analysis import load_data, preprocess_df, top_ngrams, class_top_ngrams, compute_tfidf_matrix, lsa_embeddings, tsne_project, plot_scatter, label_distribution, compute_keyword_trends\n",
    "DATA = Path('data') / 'synthetic_texts.csv'\n",
    "if not DATA.exists():\n",
    "    from generate_data import generate\n",
    "    generate(600)\n",
    "df = load_data(DATA)\n",
    "df = preprocess_df(df)\n",
    "print('Rows:', len(df))"
   ]
  },
  {
   "cell_type": "code",
   "execution_count": null,
   "id": "2f05ff21",
   "metadata": {},
   "outputs": [],
   "source": [
    "# Label distribution\n",
    "print(label_distribution(df))"
   ]
  },
  {
   "cell_type": "code",
   "execution_count": null,
   "id": "c017e4b9",
   "metadata": {},
   "outputs": [],
   "source": [
    "# Top unigrams and bigrams overall\n",
    "print('Top unigrams overall:')\n",
    "print(top_ngrams(df['joined_tokens'], n=15, ngram_range=(1,1)))\n",
    "print('Top bigrams overall:')\n",
    "print(top_ngrams(df['joined_tokens'], n=15, ngram_range=(2,2)))"
   ]
  },
  {
   "cell_type": "code",
   "execution_count": null,
   "id": "734d0aa7",
   "metadata": {},
   "outputs": [],
   "source": [
    "# Per-class top terms\n",
    "per_class = class_top_ngrams(df, n=10, ngram_range=(1,1))\n",
    "for k,v in per_class.items():\n",
    "    print(k, v[:8])"
   ]
  },
  {
   "cell_type": "markdown",
   "id": "b7821bca",
   "metadata": {},
   "source": [
    "## TF-IDF -> LSA -> t-SNE projection\n",
    "This projection helps visualize how documents cluster by label or domain in 2D."
   ]
  },
  {
   "cell_type": "code",
   "execution_count": null,
   "id": "a5e84fde",
   "metadata": {},
   "outputs": [],
   "source": [
    "vec, X = compute_tfidf_matrix(df['joined_tokens'], max_features=2000)\n",
    "emb, svd = lsa_embeddings(X, n_components=50)\n",
    "print('LSA shape:', emb.shape)\n",
    "proj = tsne_project(emb, n_components=2, perplexity=30)\n",
    "labels = df['label'].astype('category').cat.codes.values\n",
    "plot_scatter(proj, labels, Path('results/tsne_labels.png'), title='LSA + t-SNE by label')\n",
    "print('Saved results/tsne_labels.png')"
   ]
  },
  {
   "cell_type": "markdown",
   "id": "532de4bf",
   "metadata": {},
   "source": [
    "## Keyword trends (example subset)\n",
    "Plot keyword counts over time for a few important tokens."
   ]
  },
  {
   "cell_type": "code",
   "execution_count": null,
   "id": "bd304be5",
   "metadata": {},
   "outputs": [],
   "source": [
    "trends = compute_keyword_trends(df, domain_col='domain', text_col='joined_tokens', top_k=6, freq='7D')\n",
    "for dom, dfi in trends.items():\n",
    "    print(dom, dfi.columns.tolist())\n",
    "print('Keyword trend frames computed; plot with plotly or save as PNG using helper functions in src.analysis')"
   ]
  }
 ],
 "metadata": {
  "language_info": {
   "name": "python"
  }
 },
 "nbformat": 4,
 "nbformat_minor": 5
}
