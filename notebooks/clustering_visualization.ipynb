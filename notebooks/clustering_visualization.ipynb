{
 "cells": [
  {
   "cell_type": "markdown",
   "metadata": {},
   "source": [
    "# Clustering and Visualization Demo\n",
    "\n",
    "This notebook demonstrates document clustering techniques, dimensionality reduction for visualization, and cluster analysis."
   ]
  },
  {
   "cell_type": "markdown",
   "metadata": {},
   "source": [
    "## Setup and Data Loading"
   ]
  },
  {
   "cell_type": "code",
   "execution_count": null,
   "metadata": {},
   "outputs": [],
   "source": [
    "from pathlib import Path\n",
    "import pandas as pd\n",
    "import numpy as np\n",
    "import matplotlib.pyplot as plt\n",
    "import seaborn as sns\n",
    "\n",
    "from src.analysis import (\n",
    "    load_data, preprocess_df, compute_tfidf_matrix, lsa_embeddings,\n",
    "    tsne_project, plot_scatter, cluster_and_characterize\n",
    ")\n",
    "\n",
    "# Generate data if needed\n",
    "DATA = Path('data') / 'synthetic_texts.csv'\n",
    "if not DATA.exists():\n",
    "    from generate_data import generate\n",
    "    generate(800)\n",
    "\n",
    "# Load and preprocess data\n",
    "df = load_data(DATA)\n",
    "df = preprocess_df(df)\n",
    "print(f\"Dataset shape: {df.shape}\")\n",
    "print(\"Label distribution:\")\n",
    "print(df['label'].value_counts())"
   ]
  },
  {
   "cell_type": "markdown",
   "metadata": {},
   "source": [
    "## TF-IDF Vectorization and Dimensionality Reduction"
   ]
  },
  {
   "cell_type": "code",
   "execution_count": null,
   "metadata": {},
   "outputs": [],
   "source": [
    "# Create TF-IDF matrix\n",
    "vectorizer, X_tfidf = compute_tfidf_matrix(df['joined_tokens'], max_features=2000)\n",
    "print(f\"TF-IDF matrix shape: {X_tfidf.shape}\")\n",
    "\n",
    "# Reduce dimensionality with LSA\n",
    "embeddings, svd = lsa_embeddings(X_tfidf, n_components=50)\n",
    "print(f\"LSA embeddings shape: {embeddings.shape}\")\n",
    "\n",
    "# Further reduce with t-SNE for visualization\n",
    "tsne_projection = tsne_project(embeddings, n_components=2, perplexity=30)\n",
    "print(f\"t-SNE projection shape: {tsne_projection.shape}\")"
   ]
  },
  {
   "cell_type": "markdown",
   "metadata": {},
   "source": [
    "## Visualization by Original Labels"
   ]
  },
  {
   "cell_type": "code",
   "execution_count": null,
   "metadata": {},
   "outputs": [],
   "source": [
    "# Visualize by original labels\n",
    "labels = df['label'].astype('category').cat.codes.values\n",
    "plot_scatter(tsne_projection, labels, Path('results/tsne_by_label.png'), \n",
    "            title='t-SNE Projection by Original Label')\n",
    "print(\"t-SNE visualization by label saved\")\n",
    "\n",
    "# Interactive visualization with Plotly\n",
    "try:\n",
    "    import plotly.express as px\n",
    "    \n",
    "    fig = px.scatter(\n",
    "        x=tsne_projection[:, 0], \n",
    "        y=tsne_projection[:, 1],\n",
    "        color=df['label'],\n",
    "        title='t-SNE Projection by Label',\n",
    "        labels={'color': 'Label'}\n",
    "    )\n",
    "    fig.show()\n",
    "except ImportError:\n",
    "    print(\"Plotly not available\")"
   ]
  },
  {
   "cell_type": "markdown",
   "metadata": {},
   "source": [
    "## Document Clustering with K-Means"
   ]
  },
  {
   "cell_type": "code",
   "execution_count": null,
   "metadata": {},
   "outputs": [],
   "source": [
    "# Perform clustering\n",
    "cluster_labels, cluster_terms, cluster_samples = cluster_and_characterize(\n",
    "    df, n_clusters=6, max_features=2000\n",
    ")\n",
    "\n",
    "print(\"Cluster analysis completed:\")\n",
    "print(f\"Number of clusters: {len(set(cluster_labels))}\")\n",
    "print(\"Top terms per cluster:\")\n",
    "for cluster_id, terms in cluster_terms.items():\n",
    "    print(f\"Cluster {cluster_id}: {', '.join(terms[:5])}\")\n",
    "\n",
    "# Add cluster labels to dataframe\n",
    "df['cluster'] = cluster_labels"
   ]
  },
  {
   "cell_type": "markdown",
   "metadata": {},
   "source": [
    "## Visualize Clusters"
   ]
  },
  {
   "cell_type": "code",
   "execution_count": null,
   "metadata": {},
   "outputs": [],
   "source": [
    "# Visualize clusters\n",
    "plot_scatter(tsne_projection, cluster_labels, Path('results/tsne_clusters.png'), \n",
    "            title='t-SNE Projection with Clusters')\n",
    "print(\"Cluster visualization saved\")\n",
    "\n",
    "# Interactive cluster visualization\n",
    "try:\n",
    "    import plotly.express as px\n",
    "    \n",
    "    fig = px.scatter(\n",
    "        x=tsne_projection[:, 0], \n",
    "        y=tsne_projection[:, 1],\n",
    "        color=[f'Cluster {c}' for c in cluster_labels],\n",
    "        title='t-SNE Projection with Document Clusters',\n",
    "        labels={'color': 'Cluster'}\n",
    "    )\n",
    "    fig.show()\n",
    "except ImportError:\n",
    "    print(\"Plotly not available\")"
   ]
  },
  {
   "cell_type": "markdown",
   "metadata": {},
   "source": [
    "## Cluster Analysis and Characterization"
   ]
  },
  {
   "cell_type": "code",
   "execution_count": null,
   "metadata": {},
   "outputs": [],
   "source": [
    "# Analyze cluster composition\n",
    "cluster_analysis = df.groupby('cluster').agg({\n",
    "    'label': ['count', lambda x: x.value_counts().index[0]],\n",
    "    'domain': lambda x: x.value_counts().index[0]\n",
    "}).round(2)\n",
    "\n",
    "cluster_analysis.columns = ['count', 'dominant_label', 'dominant_domain']\n",
    "print(\"Cluster composition:\")\n",
    "print(cluster_analysis)\n",
    "\n",
    "# Visualize cluster composition\n",
    "plt.figure(figsize=(12, 6))\n",
    "\n",
    "plt.subplot(1, 2, 1)\n",
    "label_dist = df.groupby(['cluster', 'label']).size().unstack(fill_value=0)\n",
    "label_dist.plot(kind='bar', stacked=True, ax=plt.gca())\n",
    "plt.title('Label Distribution by Cluster')\n",
    "plt.xticks(rotation=45)\n",
    "\n",
    "plt.subplot(1, 2, 2)\n",
    "domain_dist = df.groupby(['cluster', 'domain']).size().unstack(fill_value=0)\n",
    "domain_dist.plot(kind='bar', stacked=True, ax=plt.gca())\n",
    "plt.title('Domain Distribution by Cluster')\n",
    "plt.xticks(rotation=45)\n",
    "\n",
    "plt.tight_layout()\n",
    "plt.show()"
   ]
  },
  {
   "cell_type": "markdown",
   "metadata": {},
   "source": [
    "## Cluster Samples and Interpretation"
   ]
  },
  {
   "cell_type": "code",
   "execution_count": null,
   "metadata": {},
   "outputs": [],
   "source": [
    "# Display cluster samples\n",
    "print(\"Cluster samples:\")\n",
    "for cluster_id, samples in cluster_samples.items():\n",
    "    print(f\"\\nCluster {cluster_id}:\")\n",
    "    print(f\"Top terms: {', '.join(cluster_terms[cluster_id][:5])}\")\n",
    "    print(\"Sample texts:\")\n",
    "    for i, sample in enumerate(samples[:2], 1):\n",
    "        print(f\"  {i}. {sample[:100]}...\")"
   ]
  },
  {
   "cell_type": "markdown",
   "metadata": {},
   "source": [
    "## Advanced Clustering: Optimal Cluster Number"
   ]
  },
  {
   "cell_type": "code",
   "execution_count": null,
   "metadata": {},
   "outputs": [],
   "source": [
    "# Find optimal number of clusters using elbow method\n",
    "from sklearn.cluster import KMeans\n",
    "\n",
    "inertia = []\n",
    "k_range = range(2, 11)\n",
    "\n",
    "for k in k_range:\n",
    "    kmeans = KMeans(n_clusters=k, random_state=42, n_init=10)\n",
    "    kmeans.fit(embeddings)\n",
    "    inertia.append(kmeans.inertia_)\n",
    "\n",
    "plt.figure(figsize=(10, 6))\n",
    "plt.plot(k_range, inertia, 'bo-')\n",
    "plt.xlabel('Number of clusters')\n",
    "plt.ylabel('Inertia')\n",
    "plt.title('Elbow Method for Optimal Cluster Number')\n",
    "plt.xticks(k_range)\n",
    "plt.grid(True)\n",
    "plt.show()\n",
    "\n",
    "print(\"Inertia values:\")\n",
    "for k, i in zip(k_range, inertia):\n",
    "    print(f\"k={k}: {i:.2f}\")"
   ]
  },
  {
   "cell_type": "markdown",
   "metadata": {},
   "source": [
    "## Interactive Cluster Exploration"
   ]
  },
  {
   "cell_type": "code",
   "execution_count": null,
   "metadata": {},
   "outputs": [],
   "source": [
    "# Interactive cluster exploration\n",
    "try:\n",
    "    import plotly.express as px\n",
    "    \n",
    "    # Create interactive scatter plot with hover information\n",
    "    hover_data = {\n",
    "        'label': True,\n",
    "        'domain': True,\n",
    "        'cluster': True,\n",
    "        'text': df['text'].str.slice(0, 100) + '...'\n",
    "    }\n",
    "    \n",
    "    fig = px.scatter(\n",
    "        x=tsne_projection[:, 0], \n",
    "        y=tsne_projection[:, 1],\n",
    "        color=[f'Cluster {c}' for c in cluster_labels],\n",
    "        hover_data=hover_data,\n",
    "        title='Interactive Cluster Exploration',\n",
    "        labels={'color': 'Cluster'}\n",
    "    )\n",
    "    fig.show()\n",
    "    \n",
    "except ImportError:\n",
    "    print(\"Plotly not available for interactive exploration\")"
   ]
  },
  {
   "cell_type": "markdown",
   "metadata": {},
   "source": [
    "## Clustering Summary\n",
    "\n",
    "This notebook demonstrates:\n",
    "1. TF-IDF vectorization and dimensionality reduction\n",
    "2. Document clustering with K-Means\n",
    "3. Cluster visualization with t-SNE\n",
    "4. Cluster characterization and analysis\n",
    "5. Optimal cluster number determination\n",
    "6. Interactive cluster exploration\n",
    "\n",
    "Key insights:\n",
    "- Documents naturally cluster based on content similarity\n",
    "- Clusters often correspond to domains or specific themes\n",
    "- Visualization helps understand cluster structure and relationships\n",
    "- Cluster analysis reveals patterns not visible in original labels"
   ]
  }
 ],
 "metadata": {
  "kernelspec": {
   "display_name": "Python 3",
   "language": "python",
   "name": "python3"
  },
  "language_info": {
   "name": "python",
   "version": "3.13.0"
  }
 },
 "nbformat": 4,
 "nbformat_minor": 4
}